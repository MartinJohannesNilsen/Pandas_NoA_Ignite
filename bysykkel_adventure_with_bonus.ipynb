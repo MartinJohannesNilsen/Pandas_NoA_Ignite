{
  "cells": [
    {
      "cell_type": "markdown",
      "metadata": {
        "id": "NedrY8bKDt1h"
      },
      "source": [
        "# Bysykkel i Trondheim\n",
        "\n",
        "Du skal være konsulent for en dag, og din første kunde er Trondheim Bysykkel (et samarbeid mellom Trondheim Kommune og Clear Channel Norway AS).\n",
        "\n",
        "Trondheim Kommune ønsker å tilby elsykler (i stedet for vanlige sykler) på de strekningene hvor folk bruker mest tid fra A til B, men de vet ikke hvilke strekgninger det gjelder. De ønsker denne informasjonen i både tabulær format og visualisert i et kart. \n",
        "\n",
        "De har gitt deg et Excel ark med ~140,000 turer fra 2021, og regner med at du klarer det på noen dager. Heldigvis kan du litt Pandas, og vet at du får til dette mye raskere.\n",
        "\n",
        "Pandas docs: https://pandas.pydata.org/docs/"
      ]
    },
    {
      "cell_type": "markdown",
      "metadata": {
        "id": "f2OKH85my8Cm"
      },
      "source": [
        "## Setup"
      ]
    },
    {
      "cell_type": "code",
      "execution_count": 38,
      "metadata": {
        "id": "gQSVjNw9Dt1k"
      },
      "outputs": [],
      "source": [
        "# Install packages needed for tutorial\n",
        "# Restart runtime after running this cell\n",
        "\n",
        "#!pip uninstall pandas-profiling\n",
        "!pip install pandas-profiling==3.1.0 -q --no-warn-conflicts\n",
        "!pip install pydeck -q --no-warn-conflicts"
      ]
    },
    {
      "cell_type": "code",
      "execution_count": 39,
      "metadata": {
        "id": "J9ACg-_hy-hM",
        "outputId": "782c2982-404f-4026-e8ed-8cf0c4145a4b",
        "colab": {
          "base_uri": "https://localhost:8080/"
        }
      },
      "outputs": [
        {
          "output_type": "stream",
          "name": "stdout",
          "text": [
            "Cloning into 'bysykkel'...\n",
            "remote: Enumerating objects: 105, done.\u001b[K\n",
            "remote: Counting objects: 100% (105/105), done.\u001b[K\n",
            "remote: Compressing objects: 100% (85/85), done.\u001b[K\n",
            "remote: Total 105 (delta 52), reused 52 (delta 16), pack-reused 0\u001b[K\n",
            "Receiving objects: 100% (105/105), 24.64 MiB | 16.86 MiB/s, done.\n",
            "Resolving deltas: 100% (52/52), done.\n"
          ]
        }
      ],
      "source": [
        "# Clone the bysykkel github repo into colab\n",
        "!git clone https://github.com/rmd-davis/bysykkel"
      ]
    },
    {
      "cell_type": "code",
      "execution_count": 40,
      "metadata": {
        "id": "GWpw7B8-zDjT",
        "outputId": "79dcca91-b781-4994-f768-644a89664d36",
        "colab": {
          "base_uri": "https://localhost:8080/"
        }
      },
      "outputs": [
        {
          "output_type": "stream",
          "name": "stdout",
          "text": [
            "/content/bysykkel/bysykkel\n"
          ]
        }
      ],
      "source": [
        "# Change directory into the bysykkel repository\n",
        "%cd bysykkel"
      ]
    },
    {
      "cell_type": "code",
      "execution_count": 41,
      "metadata": {
        "id": "A8y-aDU60kjQ"
      },
      "outputs": [],
      "source": [
        "# Load required packages\n",
        "\n",
        "# Pandas for handling data\n",
        "import pandas as pd\n",
        "\n",
        "# Pandas profiling for automated exploratory data analysis\n",
        "from pandas_profiling import ProfileReport\n",
        "\n",
        "# Pydeck for mapping\n",
        "import pydeck as pdk\n",
        "\n",
        "# Matplotlib and pyplot for plotting\n",
        "\n",
        "from matplotlib import pyplot as plt \n",
        "import seaborn as sns\n",
        "\n",
        "# Import script for code testing\n",
        "# This is only needed to test the codeblocks you write in this tutorial \n",
        "from functions import codetests"
      ]
    },
    {
      "cell_type": "markdown",
      "metadata": {
        "id": "nQ2A-TnpDt1k"
      },
      "source": [
        "## Last inn data"
      ]
    },
    {
      "cell_type": "code",
      "execution_count": 42,
      "metadata": {
        "id": "T8nIC4puDt1m"
      },
      "outputs": [],
      "source": [
        "# Load data\n",
        "df = pd.read_excel('data/bysykkel_2021.xlsx')"
      ]
    },
    {
      "cell_type": "code",
      "execution_count": 43,
      "metadata": {
        "id": "wjUPGNjCDt1m",
        "outputId": "027809d2-1f06-438f-afc6-8b965d4261fd",
        "colab": {
          "base_uri": "https://localhost:8080/",
          "height": 525
        }
      },
      "outputs": [
        {
          "output_type": "execute_result",
          "data": {
            "text/plain": [
              "       Kurs i Pandas med NoA Ignite                        Unnamed: 1  \\\n",
              "0                             Dato:                               NaN   \n",
              "1                               NaN                               NaN   \n",
              "2                               NaN                               NaN   \n",
              "3                               NaN                               NaN   \n",
              "4                               NaN                               NaN   \n",
              "5                        started_at                          ended_at   \n",
              "6  2021-04-07 04:21:06.812000+00:00  2021-04-07 04:33:22.530000+00:00   \n",
              "7  2021-04-07 05:56:15.319000+00:00  2021-04-07 06:00:36.670000+00:00   \n",
              "8  2021-04-07 06:28:56.205000+00:00  2021-04-07 06:34:11.292000+00:00   \n",
              "9  2021-04-07 06:35:53.300000+00:00  2021-04-07 06:48:43.457000+00:00   \n",
              "\n",
              "         Unnamed: 2                         Unnamed: 3  \\\n",
              "0               NaN                                NaN   \n",
              "1               NaN                                NaN   \n",
              "2               NaN                                NaN   \n",
              "3               NaN                                NaN   \n",
              "4               NaN                                NaN   \n",
              "5  start_station_id          start_station_description   \n",
              "6               118                    Ved Udbyes gate   \n",
              "7                66                    Ved Brattørbrua   \n",
              "8                51   ved kryss Mellomila / Illevollen   \n",
              "9               108             ved Rosenborgbassenget   \n",
              "\n",
              "               Unnamed: 4               Unnamed: 5      Unnamed: 6  \\\n",
              "0                     NaN                      NaN             NaN   \n",
              "1                     NaN                      NaN             NaN   \n",
              "2                     NaN                      NaN             NaN   \n",
              "3                     NaN                      NaN             NaN   \n",
              "4                     NaN                      NaN             NaN   \n",
              "5  start_station_latitude  start_station_longitude  end_station_id   \n",
              "6               63.416143                10.396315             108   \n",
              "7               63.435277                10.405814             107   \n",
              "8               63.430403                 10.37477             126   \n",
              "9                63.43592                10.414788             123   \n",
              "\n",
              "         Unnamed: 7                                         Unnamed: 8  \\\n",
              "0               NaN                                                NaN   \n",
              "1               NaN                                                NaN   \n",
              "2               NaN                                                NaN   \n",
              "3               NaN                                                NaN   \n",
              "4               NaN                                                NaN   \n",
              "5  end_station_name                            end_station_description   \n",
              "6     Bassengbakken                             ved Rosenborgbassenget   \n",
              "7          Pirbadet                                      Ved Havnegata   \n",
              "8       Leutenhaven  i Repslagerveita mot Prinsens gate. Operativt ...   \n",
              "9         Hesthagen                                    Ved Klæbuveien    \n",
              "\n",
              "             Unnamed: 9            Unnamed: 10  \n",
              "0                   NaN                    NaN  \n",
              "1                   NaN                    NaN  \n",
              "2                   NaN                    NaN  \n",
              "3                   NaN                    NaN  \n",
              "4                   NaN                    NaN  \n",
              "5  end_station_latitude  end_station_longitude  \n",
              "6              63.43592              10.414788  \n",
              "7             63.440758               10.40217  \n",
              "8             63.429974              10.391444  \n",
              "9             63.415418              10.399565  "
            ],
            "text/html": [
              "\n",
              "  <div id=\"df-40eb7718-c615-46fa-a291-76c9dc9e58d5\">\n",
              "    <div class=\"colab-df-container\">\n",
              "      <div>\n",
              "<style scoped>\n",
              "    .dataframe tbody tr th:only-of-type {\n",
              "        vertical-align: middle;\n",
              "    }\n",
              "\n",
              "    .dataframe tbody tr th {\n",
              "        vertical-align: top;\n",
              "    }\n",
              "\n",
              "    .dataframe thead th {\n",
              "        text-align: right;\n",
              "    }\n",
              "</style>\n",
              "<table border=\"1\" class=\"dataframe\">\n",
              "  <thead>\n",
              "    <tr style=\"text-align: right;\">\n",
              "      <th></th>\n",
              "      <th>Kurs i Pandas med NoA Ignite</th>\n",
              "      <th>Unnamed: 1</th>\n",
              "      <th>Unnamed: 2</th>\n",
              "      <th>Unnamed: 3</th>\n",
              "      <th>Unnamed: 4</th>\n",
              "      <th>Unnamed: 5</th>\n",
              "      <th>Unnamed: 6</th>\n",
              "      <th>Unnamed: 7</th>\n",
              "      <th>Unnamed: 8</th>\n",
              "      <th>Unnamed: 9</th>\n",
              "      <th>Unnamed: 10</th>\n",
              "    </tr>\n",
              "  </thead>\n",
              "  <tbody>\n",
              "    <tr>\n",
              "      <th>0</th>\n",
              "      <td>Dato:</td>\n",
              "      <td>NaN</td>\n",
              "      <td>NaN</td>\n",
              "      <td>NaN</td>\n",
              "      <td>NaN</td>\n",
              "      <td>NaN</td>\n",
              "      <td>NaN</td>\n",
              "      <td>NaN</td>\n",
              "      <td>NaN</td>\n",
              "      <td>NaN</td>\n",
              "      <td>NaN</td>\n",
              "    </tr>\n",
              "    <tr>\n",
              "      <th>1</th>\n",
              "      <td>NaN</td>\n",
              "      <td>NaN</td>\n",
              "      <td>NaN</td>\n",
              "      <td>NaN</td>\n",
              "      <td>NaN</td>\n",
              "      <td>NaN</td>\n",
              "      <td>NaN</td>\n",
              "      <td>NaN</td>\n",
              "      <td>NaN</td>\n",
              "      <td>NaN</td>\n",
              "      <td>NaN</td>\n",
              "    </tr>\n",
              "    <tr>\n",
              "      <th>2</th>\n",
              "      <td>NaN</td>\n",
              "      <td>NaN</td>\n",
              "      <td>NaN</td>\n",
              "      <td>NaN</td>\n",
              "      <td>NaN</td>\n",
              "      <td>NaN</td>\n",
              "      <td>NaN</td>\n",
              "      <td>NaN</td>\n",
              "      <td>NaN</td>\n",
              "      <td>NaN</td>\n",
              "      <td>NaN</td>\n",
              "    </tr>\n",
              "    <tr>\n",
              "      <th>3</th>\n",
              "      <td>NaN</td>\n",
              "      <td>NaN</td>\n",
              "      <td>NaN</td>\n",
              "      <td>NaN</td>\n",
              "      <td>NaN</td>\n",
              "      <td>NaN</td>\n",
              "      <td>NaN</td>\n",
              "      <td>NaN</td>\n",
              "      <td>NaN</td>\n",
              "      <td>NaN</td>\n",
              "      <td>NaN</td>\n",
              "    </tr>\n",
              "    <tr>\n",
              "      <th>4</th>\n",
              "      <td>NaN</td>\n",
              "      <td>NaN</td>\n",
              "      <td>NaN</td>\n",
              "      <td>NaN</td>\n",
              "      <td>NaN</td>\n",
              "      <td>NaN</td>\n",
              "      <td>NaN</td>\n",
              "      <td>NaN</td>\n",
              "      <td>NaN</td>\n",
              "      <td>NaN</td>\n",
              "      <td>NaN</td>\n",
              "    </tr>\n",
              "    <tr>\n",
              "      <th>5</th>\n",
              "      <td>started_at</td>\n",
              "      <td>ended_at</td>\n",
              "      <td>start_station_id</td>\n",
              "      <td>start_station_description</td>\n",
              "      <td>start_station_latitude</td>\n",
              "      <td>start_station_longitude</td>\n",
              "      <td>end_station_id</td>\n",
              "      <td>end_station_name</td>\n",
              "      <td>end_station_description</td>\n",
              "      <td>end_station_latitude</td>\n",
              "      <td>end_station_longitude</td>\n",
              "    </tr>\n",
              "    <tr>\n",
              "      <th>6</th>\n",
              "      <td>2021-04-07 04:21:06.812000+00:00</td>\n",
              "      <td>2021-04-07 04:33:22.530000+00:00</td>\n",
              "      <td>118</td>\n",
              "      <td>Ved Udbyes gate</td>\n",
              "      <td>63.416143</td>\n",
              "      <td>10.396315</td>\n",
              "      <td>108</td>\n",
              "      <td>Bassengbakken</td>\n",
              "      <td>ved Rosenborgbassenget</td>\n",
              "      <td>63.43592</td>\n",
              "      <td>10.414788</td>\n",
              "    </tr>\n",
              "    <tr>\n",
              "      <th>7</th>\n",
              "      <td>2021-04-07 05:56:15.319000+00:00</td>\n",
              "      <td>2021-04-07 06:00:36.670000+00:00</td>\n",
              "      <td>66</td>\n",
              "      <td>Ved Brattørbrua</td>\n",
              "      <td>63.435277</td>\n",
              "      <td>10.405814</td>\n",
              "      <td>107</td>\n",
              "      <td>Pirbadet</td>\n",
              "      <td>Ved Havnegata</td>\n",
              "      <td>63.440758</td>\n",
              "      <td>10.40217</td>\n",
              "    </tr>\n",
              "    <tr>\n",
              "      <th>8</th>\n",
              "      <td>2021-04-07 06:28:56.205000+00:00</td>\n",
              "      <td>2021-04-07 06:34:11.292000+00:00</td>\n",
              "      <td>51</td>\n",
              "      <td>ved kryss Mellomila / Illevollen</td>\n",
              "      <td>63.430403</td>\n",
              "      <td>10.37477</td>\n",
              "      <td>126</td>\n",
              "      <td>Leutenhaven</td>\n",
              "      <td>i Repslagerveita mot Prinsens gate. Operativt ...</td>\n",
              "      <td>63.429974</td>\n",
              "      <td>10.391444</td>\n",
              "    </tr>\n",
              "    <tr>\n",
              "      <th>9</th>\n",
              "      <td>2021-04-07 06:35:53.300000+00:00</td>\n",
              "      <td>2021-04-07 06:48:43.457000+00:00</td>\n",
              "      <td>108</td>\n",
              "      <td>ved Rosenborgbassenget</td>\n",
              "      <td>63.43592</td>\n",
              "      <td>10.414788</td>\n",
              "      <td>123</td>\n",
              "      <td>Hesthagen</td>\n",
              "      <td>Ved Klæbuveien</td>\n",
              "      <td>63.415418</td>\n",
              "      <td>10.399565</td>\n",
              "    </tr>\n",
              "  </tbody>\n",
              "</table>\n",
              "</div>\n",
              "      <button class=\"colab-df-convert\" onclick=\"convertToInteractive('df-40eb7718-c615-46fa-a291-76c9dc9e58d5')\"\n",
              "              title=\"Convert this dataframe to an interactive table.\"\n",
              "              style=\"display:none;\">\n",
              "        \n",
              "  <svg xmlns=\"http://www.w3.org/2000/svg\" height=\"24px\"viewBox=\"0 0 24 24\"\n",
              "       width=\"24px\">\n",
              "    <path d=\"M0 0h24v24H0V0z\" fill=\"none\"/>\n",
              "    <path d=\"M18.56 5.44l.94 2.06.94-2.06 2.06-.94-2.06-.94-.94-2.06-.94 2.06-2.06.94zm-11 1L8.5 8.5l.94-2.06 2.06-.94-2.06-.94L8.5 2.5l-.94 2.06-2.06.94zm10 10l.94 2.06.94-2.06 2.06-.94-2.06-.94-.94-2.06-.94 2.06-2.06.94z\"/><path d=\"M17.41 7.96l-1.37-1.37c-.4-.4-.92-.59-1.43-.59-.52 0-1.04.2-1.43.59L10.3 9.45l-7.72 7.72c-.78.78-.78 2.05 0 2.83L4 21.41c.39.39.9.59 1.41.59.51 0 1.02-.2 1.41-.59l7.78-7.78 2.81-2.81c.8-.78.8-2.07 0-2.86zM5.41 20L4 18.59l7.72-7.72 1.47 1.35L5.41 20z\"/>\n",
              "  </svg>\n",
              "      </button>\n",
              "      \n",
              "  <style>\n",
              "    .colab-df-container {\n",
              "      display:flex;\n",
              "      flex-wrap:wrap;\n",
              "      gap: 12px;\n",
              "    }\n",
              "\n",
              "    .colab-df-convert {\n",
              "      background-color: #E8F0FE;\n",
              "      border: none;\n",
              "      border-radius: 50%;\n",
              "      cursor: pointer;\n",
              "      display: none;\n",
              "      fill: #1967D2;\n",
              "      height: 32px;\n",
              "      padding: 0 0 0 0;\n",
              "      width: 32px;\n",
              "    }\n",
              "\n",
              "    .colab-df-convert:hover {\n",
              "      background-color: #E2EBFA;\n",
              "      box-shadow: 0px 1px 2px rgba(60, 64, 67, 0.3), 0px 1px 3px 1px rgba(60, 64, 67, 0.15);\n",
              "      fill: #174EA6;\n",
              "    }\n",
              "\n",
              "    [theme=dark] .colab-df-convert {\n",
              "      background-color: #3B4455;\n",
              "      fill: #D2E3FC;\n",
              "    }\n",
              "\n",
              "    [theme=dark] .colab-df-convert:hover {\n",
              "      background-color: #434B5C;\n",
              "      box-shadow: 0px 1px 3px 1px rgba(0, 0, 0, 0.15);\n",
              "      filter: drop-shadow(0px 1px 2px rgba(0, 0, 0, 0.3));\n",
              "      fill: #FFFFFF;\n",
              "    }\n",
              "  </style>\n",
              "\n",
              "      <script>\n",
              "        const buttonEl =\n",
              "          document.querySelector('#df-40eb7718-c615-46fa-a291-76c9dc9e58d5 button.colab-df-convert');\n",
              "        buttonEl.style.display =\n",
              "          google.colab.kernel.accessAllowed ? 'block' : 'none';\n",
              "\n",
              "        async function convertToInteractive(key) {\n",
              "          const element = document.querySelector('#df-40eb7718-c615-46fa-a291-76c9dc9e58d5');\n",
              "          const dataTable =\n",
              "            await google.colab.kernel.invokeFunction('convertToInteractive',\n",
              "                                                     [key], {});\n",
              "          if (!dataTable) return;\n",
              "\n",
              "          const docLinkHtml = 'Like what you see? Visit the ' +\n",
              "            '<a target=\"_blank\" href=https://colab.research.google.com/notebooks/data_table.ipynb>data table notebook</a>'\n",
              "            + ' to learn more about interactive tables.';\n",
              "          element.innerHTML = '';\n",
              "          dataTable['output_type'] = 'display_data';\n",
              "          await google.colab.output.renderOutput(dataTable, element);\n",
              "          const docLink = document.createElement('div');\n",
              "          docLink.innerHTML = docLinkHtml;\n",
              "          element.appendChild(docLink);\n",
              "        }\n",
              "      </script>\n",
              "    </div>\n",
              "  </div>\n",
              "  "
            ]
          },
          "metadata": {},
          "execution_count": 43
        }
      ],
      "source": [
        "'''\n",
        "Inspect the data we loaded using df.head().\n",
        "Note that the default setting for df.head() is to return the first 5 rows.\n",
        "By specifying df.head(10), we get the first 10 rows instead.\n",
        "'''\n",
        "\n",
        "df.head(10)"
      ]
    },
    {
      "cell_type": "code",
      "execution_count": 44,
      "metadata": {
        "id": "B9KNQiBfDt1o",
        "outputId": "20c270b4-304d-427c-b97f-55af3958de4d",
        "colab": {
          "base_uri": "https://localhost:8080/"
        }
      },
      "outputs": [
        {
          "output_type": "stream",
          "name": "stdout",
          "text": [
            "Test passed, your output matched the expected output!\n"
          ]
        }
      ],
      "source": [
        "'''\n",
        "Looks like we have some cleaning up to do!\n",
        "In the Excel file, there is some other information at the top before the data starts on the 7th row.\n",
        "Load data using pd.read_excel, but skip the first 6 rows and set the header row using the header parameter\n",
        "'''\n",
        "\n",
        "### Enter your code below this line\n",
        "\n",
        "df = pd.read_excel('data/bysykkel_2021.xlsx', skiprows=6)\n",
        "# df = pd.read_excel('data/bysykkel_2021.xlsx', header=6)\n",
        "\n",
        "### Enter your code above this line\n",
        "\n",
        "\n",
        "### Code test\n",
        "codetest_01_input = df.iloc[0,0]\n",
        "codetests.codetest_01_header(codetest_01_input)\n"
      ]
    },
    {
      "cell_type": "code",
      "execution_count": 45,
      "metadata": {
        "id": "fQeEJJkgDt1p",
        "colab": {
          "base_uri": "https://localhost:8080/",
          "height": 353
        },
        "outputId": "108c7033-f201-407f-84e4-f454775e8a52"
      },
      "outputs": [
        {
          "output_type": "execute_result",
          "data": {
            "text/plain": [
              "                         started_at                          ended_at  \\\n",
              "0  2021-04-07 04:21:06.812000+00:00  2021-04-07 04:33:22.530000+00:00   \n",
              "1  2021-04-07 05:56:15.319000+00:00  2021-04-07 06:00:36.670000+00:00   \n",
              "2  2021-04-07 06:28:56.205000+00:00  2021-04-07 06:34:11.292000+00:00   \n",
              "3  2021-04-07 06:35:53.300000+00:00  2021-04-07 06:48:43.457000+00:00   \n",
              "4  2021-04-07 06:38:53.048000+00:00  2021-04-07 06:43:53.648000+00:00   \n",
              "\n",
              "   start_station_id          start_station_description  \\\n",
              "0               118                    Ved Udbyes gate   \n",
              "1                66                    Ved Brattørbrua   \n",
              "2                51   ved kryss Mellomila / Illevollen   \n",
              "3               108             ved Rosenborgbassenget   \n",
              "4                51   ved kryss Mellomila / Illevollen   \n",
              "\n",
              "   start_station_latitude  start_station_longitude  end_station_id  \\\n",
              "0               63.416143                10.396315             108   \n",
              "1               63.435277                10.405814             107   \n",
              "2               63.430403                10.374770             126   \n",
              "3               63.435920                10.414788             123   \n",
              "4               63.430403                10.374770              28   \n",
              "\n",
              "  end_station_name                            end_station_description  \\\n",
              "0    Bassengbakken                             ved Rosenborgbassenget   \n",
              "1         Pirbadet                                      Ved Havnegata   \n",
              "2      Leutenhaven  i Repslagerveita mot Prinsens gate. Operativt ...   \n",
              "3        Hesthagen                                    Ved Klæbuveien    \n",
              "4     Kongens gate                                    Ved Nordre gate   \n",
              "\n",
              "   end_station_latitude  end_station_longitude  \n",
              "0             63.435920              10.414788  \n",
              "1             63.440758              10.402170  \n",
              "2             63.429974              10.391444  \n",
              "3             63.415418              10.399565  \n",
              "4             63.430457              10.398101  "
            ],
            "text/html": [
              "\n",
              "  <div id=\"df-38e303bf-f951-4258-8ef4-e7859aced18a\">\n",
              "    <div class=\"colab-df-container\">\n",
              "      <div>\n",
              "<style scoped>\n",
              "    .dataframe tbody tr th:only-of-type {\n",
              "        vertical-align: middle;\n",
              "    }\n",
              "\n",
              "    .dataframe tbody tr th {\n",
              "        vertical-align: top;\n",
              "    }\n",
              "\n",
              "    .dataframe thead th {\n",
              "        text-align: right;\n",
              "    }\n",
              "</style>\n",
              "<table border=\"1\" class=\"dataframe\">\n",
              "  <thead>\n",
              "    <tr style=\"text-align: right;\">\n",
              "      <th></th>\n",
              "      <th>started_at</th>\n",
              "      <th>ended_at</th>\n",
              "      <th>start_station_id</th>\n",
              "      <th>start_station_description</th>\n",
              "      <th>start_station_latitude</th>\n",
              "      <th>start_station_longitude</th>\n",
              "      <th>end_station_id</th>\n",
              "      <th>end_station_name</th>\n",
              "      <th>end_station_description</th>\n",
              "      <th>end_station_latitude</th>\n",
              "      <th>end_station_longitude</th>\n",
              "    </tr>\n",
              "  </thead>\n",
              "  <tbody>\n",
              "    <tr>\n",
              "      <th>0</th>\n",
              "      <td>2021-04-07 04:21:06.812000+00:00</td>\n",
              "      <td>2021-04-07 04:33:22.530000+00:00</td>\n",
              "      <td>118</td>\n",
              "      <td>Ved Udbyes gate</td>\n",
              "      <td>63.416143</td>\n",
              "      <td>10.396315</td>\n",
              "      <td>108</td>\n",
              "      <td>Bassengbakken</td>\n",
              "      <td>ved Rosenborgbassenget</td>\n",
              "      <td>63.435920</td>\n",
              "      <td>10.414788</td>\n",
              "    </tr>\n",
              "    <tr>\n",
              "      <th>1</th>\n",
              "      <td>2021-04-07 05:56:15.319000+00:00</td>\n",
              "      <td>2021-04-07 06:00:36.670000+00:00</td>\n",
              "      <td>66</td>\n",
              "      <td>Ved Brattørbrua</td>\n",
              "      <td>63.435277</td>\n",
              "      <td>10.405814</td>\n",
              "      <td>107</td>\n",
              "      <td>Pirbadet</td>\n",
              "      <td>Ved Havnegata</td>\n",
              "      <td>63.440758</td>\n",
              "      <td>10.402170</td>\n",
              "    </tr>\n",
              "    <tr>\n",
              "      <th>2</th>\n",
              "      <td>2021-04-07 06:28:56.205000+00:00</td>\n",
              "      <td>2021-04-07 06:34:11.292000+00:00</td>\n",
              "      <td>51</td>\n",
              "      <td>ved kryss Mellomila / Illevollen</td>\n",
              "      <td>63.430403</td>\n",
              "      <td>10.374770</td>\n",
              "      <td>126</td>\n",
              "      <td>Leutenhaven</td>\n",
              "      <td>i Repslagerveita mot Prinsens gate. Operativt ...</td>\n",
              "      <td>63.429974</td>\n",
              "      <td>10.391444</td>\n",
              "    </tr>\n",
              "    <tr>\n",
              "      <th>3</th>\n",
              "      <td>2021-04-07 06:35:53.300000+00:00</td>\n",
              "      <td>2021-04-07 06:48:43.457000+00:00</td>\n",
              "      <td>108</td>\n",
              "      <td>ved Rosenborgbassenget</td>\n",
              "      <td>63.435920</td>\n",
              "      <td>10.414788</td>\n",
              "      <td>123</td>\n",
              "      <td>Hesthagen</td>\n",
              "      <td>Ved Klæbuveien</td>\n",
              "      <td>63.415418</td>\n",
              "      <td>10.399565</td>\n",
              "    </tr>\n",
              "    <tr>\n",
              "      <th>4</th>\n",
              "      <td>2021-04-07 06:38:53.048000+00:00</td>\n",
              "      <td>2021-04-07 06:43:53.648000+00:00</td>\n",
              "      <td>51</td>\n",
              "      <td>ved kryss Mellomila / Illevollen</td>\n",
              "      <td>63.430403</td>\n",
              "      <td>10.374770</td>\n",
              "      <td>28</td>\n",
              "      <td>Kongens gate</td>\n",
              "      <td>Ved Nordre gate</td>\n",
              "      <td>63.430457</td>\n",
              "      <td>10.398101</td>\n",
              "    </tr>\n",
              "  </tbody>\n",
              "</table>\n",
              "</div>\n",
              "      <button class=\"colab-df-convert\" onclick=\"convertToInteractive('df-38e303bf-f951-4258-8ef4-e7859aced18a')\"\n",
              "              title=\"Convert this dataframe to an interactive table.\"\n",
              "              style=\"display:none;\">\n",
              "        \n",
              "  <svg xmlns=\"http://www.w3.org/2000/svg\" height=\"24px\"viewBox=\"0 0 24 24\"\n",
              "       width=\"24px\">\n",
              "    <path d=\"M0 0h24v24H0V0z\" fill=\"none\"/>\n",
              "    <path d=\"M18.56 5.44l.94 2.06.94-2.06 2.06-.94-2.06-.94-.94-2.06-.94 2.06-2.06.94zm-11 1L8.5 8.5l.94-2.06 2.06-.94-2.06-.94L8.5 2.5l-.94 2.06-2.06.94zm10 10l.94 2.06.94-2.06 2.06-.94-2.06-.94-.94-2.06-.94 2.06-2.06.94z\"/><path d=\"M17.41 7.96l-1.37-1.37c-.4-.4-.92-.59-1.43-.59-.52 0-1.04.2-1.43.59L10.3 9.45l-7.72 7.72c-.78.78-.78 2.05 0 2.83L4 21.41c.39.39.9.59 1.41.59.51 0 1.02-.2 1.41-.59l7.78-7.78 2.81-2.81c.8-.78.8-2.07 0-2.86zM5.41 20L4 18.59l7.72-7.72 1.47 1.35L5.41 20z\"/>\n",
              "  </svg>\n",
              "      </button>\n",
              "      \n",
              "  <style>\n",
              "    .colab-df-container {\n",
              "      display:flex;\n",
              "      flex-wrap:wrap;\n",
              "      gap: 12px;\n",
              "    }\n",
              "\n",
              "    .colab-df-convert {\n",
              "      background-color: #E8F0FE;\n",
              "      border: none;\n",
              "      border-radius: 50%;\n",
              "      cursor: pointer;\n",
              "      display: none;\n",
              "      fill: #1967D2;\n",
              "      height: 32px;\n",
              "      padding: 0 0 0 0;\n",
              "      width: 32px;\n",
              "    }\n",
              "\n",
              "    .colab-df-convert:hover {\n",
              "      background-color: #E2EBFA;\n",
              "      box-shadow: 0px 1px 2px rgba(60, 64, 67, 0.3), 0px 1px 3px 1px rgba(60, 64, 67, 0.15);\n",
              "      fill: #174EA6;\n",
              "    }\n",
              "\n",
              "    [theme=dark] .colab-df-convert {\n",
              "      background-color: #3B4455;\n",
              "      fill: #D2E3FC;\n",
              "    }\n",
              "\n",
              "    [theme=dark] .colab-df-convert:hover {\n",
              "      background-color: #434B5C;\n",
              "      box-shadow: 0px 1px 3px 1px rgba(0, 0, 0, 0.15);\n",
              "      filter: drop-shadow(0px 1px 2px rgba(0, 0, 0, 0.3));\n",
              "      fill: #FFFFFF;\n",
              "    }\n",
              "  </style>\n",
              "\n",
              "      <script>\n",
              "        const buttonEl =\n",
              "          document.querySelector('#df-38e303bf-f951-4258-8ef4-e7859aced18a button.colab-df-convert');\n",
              "        buttonEl.style.display =\n",
              "          google.colab.kernel.accessAllowed ? 'block' : 'none';\n",
              "\n",
              "        async function convertToInteractive(key) {\n",
              "          const element = document.querySelector('#df-38e303bf-f951-4258-8ef4-e7859aced18a');\n",
              "          const dataTable =\n",
              "            await google.colab.kernel.invokeFunction('convertToInteractive',\n",
              "                                                     [key], {});\n",
              "          if (!dataTable) return;\n",
              "\n",
              "          const docLinkHtml = 'Like what you see? Visit the ' +\n",
              "            '<a target=\"_blank\" href=https://colab.research.google.com/notebooks/data_table.ipynb>data table notebook</a>'\n",
              "            + ' to learn more about interactive tables.';\n",
              "          element.innerHTML = '';\n",
              "          dataTable['output_type'] = 'display_data';\n",
              "          await google.colab.output.renderOutput(dataTable, element);\n",
              "          const docLink = document.createElement('div');\n",
              "          docLink.innerHTML = docLinkHtml;\n",
              "          element.appendChild(docLink);\n",
              "        }\n",
              "      </script>\n",
              "    </div>\n",
              "  </div>\n",
              "  "
            ]
          },
          "metadata": {},
          "execution_count": 45
        }
      ],
      "source": [
        "'''\n",
        "Inspect data after adding the header parameter to the load function. \n",
        "If your code passed codetest_01, the first row should contain a trip from Station 118 to Station 108\n",
        "'''\n",
        "\n",
        "df.head()"
      ]
    },
    {
      "cell_type": "markdown",
      "metadata": {
        "id": "EwEeJS4wDt1p"
      },
      "source": [
        "## Automatic EDA (Exploratory Data Analysis)\n",
        "\n",
        "Now that we have the dataset loaded, we can use Pandas Profiling to get some quick insights into the dataset.\n",
        "\n",
        "https://pypi.org/project/pandas-profiling/"
      ]
    },
    {
      "cell_type": "code",
      "execution_count": null,
      "metadata": {
        "id": "DM7nLnuoDt1q",
        "colab": {
          "base_uri": "https://localhost:8080/",
          "height": 77,
          "referenced_widgets": [
            "f22145fd17674ec393fe7f33dd941afc",
            "8e40b33b79164313b7f95f0f1ef91429",
            "a1343976e9c441dba1c87c1d4be5add9",
            "abd3bead585543c2895aead470c387ea",
            "d5c21724b0f842f38ed2b838a8745acf",
            "fb64661a637e40e7a55fac076ccb11d3",
            "b31ebd6b0204470bacf89ebb7e82fa20",
            "f7426513bb1d472a8b0d82bf709f4633",
            "c13ba18eb0964180bd01a1b4d4f3c706",
            "4fad6e603c764f4fb494fda691edd333",
            "6cce1800cff14a02bcb1c0dfee99656a"
          ]
        },
        "outputId": "bb8ec846-d588-4210-d3ef-2ffdcb55e778"
      },
      "outputs": [
        {
          "output_type": "display_data",
          "data": {
            "text/plain": [
              "Summarize dataset:   0%|          | 0/5 [00:00<?, ?it/s]"
            ],
            "application/vnd.jupyter.widget-view+json": {
              "version_major": 2,
              "version_minor": 0,
              "model_id": "f22145fd17674ec393fe7f33dd941afc"
            }
          },
          "metadata": {}
        }
      ],
      "source": [
        "# Generate Pandas Profiling report\n",
        "profile = ProfileReport(df, title='Bysykkel Trondheim', html={'style':{'full_width':True}})\n",
        "profile.to_notebook_iframe()"
      ]
    },
    {
      "cell_type": "code",
      "execution_count": null,
      "metadata": {
        "id": "jKmQJAn_Dt1r"
      },
      "outputs": [],
      "source": [
        "'''\n",
        "Use df.info() to get basic information about the dataset. \n",
        "Notice the Dtype for 'started_at' and 'ended_at'.\n",
        "Also, notice the number of non-null values in 'ended_at', 'start_station_description', and 'end_station_description'\n",
        "'''\n",
        "\n",
        "df.info()"
      ]
    },
    {
      "cell_type": "markdown",
      "metadata": {
        "id": "JO9gh8rUDt1q"
      },
      "source": [
        "## Data cleanup\n",
        "\n",
        "Issues with the dataset:\n",
        "\n",
        "* 'started_at' and 'ended_at' are strings and not datetime variables\n",
        "* Missing 'start_station_name'\n",
        "* There are some extra columns we don't need\n",
        "* There are duplicate rows\n",
        "* Missing duration for each trip\n",
        "* 'ended_at' has 703 missing values"
      ]
    },
    {
      "cell_type": "markdown",
      "metadata": {
        "id": "pGr1O4v4Dt1q"
      },
      "source": [
        "### Dates\n",
        "\n",
        "'started_at' and 'ended_at' are 'objects', but should be 'datetime'\n",
        "<br>https://pandas.pydata.org/docs/reference/api/pandas.to_datetime.html"
      ]
    },
    {
      "cell_type": "code",
      "execution_count": null,
      "metadata": {
        "id": "aOCNLGYeDt1r"
      },
      "outputs": [],
      "source": [
        "''' \n",
        "Convert 'started_at' and 'ended_at' to datetime variables.\n",
        "Use pd.to_datetime()\n",
        "To apply a transformation to a particular column, you can use the convention below:\n",
        "df['column_name'] = transformation(df['column_name'])\n",
        "\n",
        "'''\n",
        "\n",
        "### Enter your code below this line\n",
        "\n",
        "df['started_at'] = pd.to_datetime(df['started_at'])\n",
        "df['ended_at'] = pd.to_datetime(df['ended_at'])\n",
        "\n",
        "### Enter your code above this line\n",
        "\n",
        "\n",
        "### Code test\n",
        "codetest_02_input = df.dtypes\n",
        "codetests.codetest_02_dtypes(codetest_02_input)"
      ]
    },
    {
      "cell_type": "code",
      "execution_count": null,
      "metadata": {
        "id": "3us76iO9Dt1r"
      },
      "outputs": [],
      "source": [
        "'''\n",
        "Use df.info() again, and now notice the Dtype for 'started_at' and 'ended_at'.\n",
        "If you passed the codetest above, they will now both be datetime variables.\n",
        "'''\n",
        "\n",
        "df.info()"
      ]
    },
    {
      "cell_type": "markdown",
      "metadata": {
        "id": "IeqYbycZDt1s"
      },
      "source": [
        "### Missing data\n",
        "We are missing the 'start_station_name' column to match the 'end_station_name' column.\n",
        "<br>Luckily, we have another Excel file that lists station IDs and station names. We can combine the information from both files using df.merge()\n",
        "<br>https://pandas.pydata.org/docs/reference/api/pandas.DataFrame.merge.html "
      ]
    },
    {
      "cell_type": "code",
      "execution_count": null,
      "metadata": {
        "id": "V3LjmzsMDt1s"
      },
      "outputs": [],
      "source": [
        "# Load 'start_station_id.xlsx' into a new datadrame called 'station_names'\n",
        "\n",
        "station_names = pd.read_excel('data/start_station_id.xlsx')"
      ]
    },
    {
      "cell_type": "code",
      "execution_count": null,
      "metadata": {
        "id": "KAu3zMcIDt1s"
      },
      "outputs": [],
      "source": [
        "# Inspect station_names dataframe\n",
        "station_names"
      ]
    },
    {
      "cell_type": "code",
      "execution_count": null,
      "metadata": {
        "id": "QehwxL9KCLL0"
      },
      "outputs": [],
      "source": [
        "'''\n",
        "Now we will merge the original dataframe and the information in the station_names dataframe.\n",
        "Use df.merge, merge on 'start_station_id', and use a 'left' merge.\n",
        "'''\n",
        "\n",
        "### Enter your code below this line\n",
        "\n",
        "df = df.merge(station_names, how=\"left\")\n",
        "\n",
        "### Enter your code above this line\n",
        "\n",
        "\n",
        "### Code test\n",
        "codetest_03_input = df\n",
        "codetests.codetest_03_merge(codetest_03_input)"
      ]
    },
    {
      "cell_type": "markdown",
      "metadata": {
        "id": "dEMFrtdADt1t"
      },
      "source": [
        "### Delete unnecessary columns\n",
        "\n",
        "Delete 'start_station_description' and 'end_station_description'. \n",
        "<br>Use df.drop( ).\n",
        "<br> https://pandas.pydata.org/docs/reference/api/pandas.DataFrame.drop.html\n"
      ]
    },
    {
      "cell_type": "code",
      "execution_count": null,
      "metadata": {
        "id": "s1aiZVNzDt1t"
      },
      "outputs": [],
      "source": [
        "'''\n",
        "Delete columns using df.drop()\n",
        "You can either assign the result of df.drop to df, or use the inplace parameter\n",
        "'''\n",
        "\n",
        "### Enter your code below this line\n",
        "\n",
        "df = df.drop([\"start_station_description\", \"end_station_description\"], axis = 1)\n",
        "\n",
        "### Enter your code above this line\n",
        "\n",
        "\n",
        "### Code test\n",
        "codetest_04_input = df\n",
        "codetests.codetest_04_drop(codetest_04_input)"
      ]
    },
    {
      "cell_type": "markdown",
      "metadata": {
        "id": "1XGzN093Dt1t"
      },
      "source": [
        "### Remove duplicates"
      ]
    },
    {
      "cell_type": "code",
      "execution_count": null,
      "metadata": {
        "id": "Fv47nKYXDt1t"
      },
      "outputs": [],
      "source": [
        "# First, we find the duplicated rows using df.duplicated()\n",
        "\n",
        "df[df.duplicated(keep=False)]"
      ]
    },
    {
      "cell_type": "code",
      "execution_count": null,
      "metadata": {
        "id": "ffz65wO7Dt1u"
      },
      "outputs": [],
      "source": [
        "'''\n",
        "Now we will use df.drop() to drop a single row from the dataframe.\n",
        "We will drop the row with index = 29143.\n",
        "Note that you can specify which axis to drop, but it is not necessary since the default behaviour is axis=0, which is what we want to drop a row.\n",
        "'''\n",
        "\n",
        "### Enter your code below this line\n",
        "\n",
        "df.drop([29143], axis=0, inplace=True)\n",
        "\n",
        "### Enter your code above this line\n",
        "\n",
        "\n",
        "### Code test\n",
        "codetest_05_input = df\n",
        "codetests.codetest_05_duplicates(codetest_05_input)"
      ]
    },
    {
      "cell_type": "markdown",
      "metadata": {
        "id": "GW4kSnwvDt1u"
      },
      "source": [
        "### Add a column with trip duration\n",
        "Add a column which contains the duration of each trip in seconds.\n",
        "<br> Since we have 'started_at' and 'ended_at', Pandas can do the calculation for us automatically as a timedelta. \n",
        "<br>We'll use <code>df[column].dt.seconds</code> to get seconds as a float.\n",
        "\n",
        "<br> Instead of you coding this one, we will just show you the power and time savings of using a vectorized approach to calculations. We'll use the <code>%%time</code> command to time different ways of performing the calculation."
      ]
    },
    {
      "cell_type": "code",
      "execution_count": null,
      "metadata": {
        "id": "PUrLt-MPDt1u"
      },
      "outputs": [],
      "source": [
        "# Calculating duration by looping through each row iteratively.\n",
        "# After each iteration, we'll build up a list of duration values\n",
        "# After looping through all rows, we add the list of duration values to the dataframe\n",
        "\n",
        "%%time\n",
        "\n",
        "duration_list = []\n",
        "duration_value = 0\n",
        "\n",
        "for row in df.index:\n",
        "    duration_value = (df.loc[row]['ended_at'] - df.loc[row]['started_at']).seconds\n",
        "    duration_list.append(duration_value)\n",
        "\n",
        "df['duration_loop'] = duration_list"
      ]
    },
    {
      "cell_type": "code",
      "execution_count": null,
      "metadata": {
        "id": "j7X9JbPRDt1u"
      },
      "outputs": [],
      "source": [
        "# Calculating duration using a lambda function\n",
        "# Here we build the duration column as we go\n",
        "\n",
        "%%time\n",
        "\n",
        "df['duration_lambda'] = df.apply(lambda x: (x['ended_at'] - x['started_at']).seconds, axis=1)"
      ]
    },
    {
      "cell_type": "code",
      "execution_count": null,
      "metadata": {
        "id": "K0IKsDEdDt1u"
      },
      "outputs": [],
      "source": [
        "# Finally, we'll look at a vectorized approach\n",
        "%%time\n",
        "\n",
        "# Calculate timedelta between 'ended_at' and 'started_at'\n",
        "df['duration'] = df['ended_at'] - df['started_at']\n",
        "\n",
        "# Convert column from timedelta to float of seconds\n",
        "df['duration'] = df['duration'].dt.seconds"
      ]
    },
    {
      "cell_type": "markdown",
      "metadata": {
        "id": "jwOfVM_QDt1v"
      },
      "source": [
        "### Fix missing values in 'ended_at'\n",
        "* There are many ways of fixing missing values\n",
        "* The most important thing is to document what you are changing in your dataset, and how you are changing it.\n",
        "* We will fill the missing values in 'duration' with the average trip duration, generate a column of timedeltas, and then use that to fix all ended_at values."
      ]
    },
    {
      "cell_type": "code",
      "execution_count": null,
      "metadata": {
        "id": "CSpaOx9JDt1w"
      },
      "outputs": [],
      "source": [
        "# Comment this out for the bonus task\n",
        "\"\"\"\n",
        "# Fill missing values in the 'duration' column with the mean of all duration values\n",
        "df['duration'].fillna(df['duration'].mean(), inplace=True)\n",
        "\n",
        "# Create a timedelta column based on the duration column\n",
        "# Timedeltas are used to make calculations based on variables in a datetime format, so we need to convert our duration column which is stored as a float\n",
        "df['duration_timedelta'] = pd.to_timedelta(df['duration'], unit='s')\n",
        "\n",
        "# Update all 'ended_at' values\n",
        "df['ended_at'] = df['started_at'] + df['duration_timedelta']\n",
        "\n",
        "# Drop the columns we no longer need in the dataframe\n",
        "df = df.drop(columns = ['duration_timedelta','duration_loop','duration_lambda'])\n",
        "\"\"\""
      ]
    },
    {
      "cell_type": "markdown",
      "metadata": {
        "id": "dN3D4fe9Dt1w"
      },
      "source": [
        "\n",
        "## Check the result of the data cleanup"
      ]
    },
    {
      "cell_type": "code",
      "execution_count": null,
      "metadata": {
        "id": "s6uFDZRUUYZY"
      },
      "outputs": [],
      "source": [
        "df.info()"
      ]
    },
    {
      "cell_type": "code",
      "execution_count": null,
      "metadata": {
        "id": "hOZl8jTVDt1w"
      },
      "outputs": [],
      "source": [
        "# Use df.describe() or df.describe().transpose()\n",
        "df.describe()"
      ]
    },
    {
      "cell_type": "markdown",
      "metadata": {
        "id": "ta2Kk3lyDt1w"
      },
      "source": [
        "## Plot the longest trip"
      ]
    },
    {
      "cell_type": "code",
      "execution_count": null,
      "metadata": {
        "id": "CE0qcBOaDt1w"
      },
      "outputs": [],
      "source": [
        "# Select the n longest trips\n",
        "\n",
        "# Set the number of trips you want to look at.\n",
        "# Plot just the 1 longest trip first. Then change it to the 20 longest trips.\n",
        "n_trips = 20\n",
        "\n",
        "# Create a new dataframe with only the values we want to plot\n",
        "df_map_data = df.sort_values(by='duration', na_position='first').tail(n_trips)\n",
        "\n",
        "# Add columns for start coordinates and end coordinates in the format [long,lat]\n",
        "df_map_data['start_coord'] = df_map_data.apply(lambda x: [x['start_station_longitude'],x['start_station_latitude']],axis=1)\n",
        "df_map_data['end_coord'] = df_map_data.apply(lambda x: [x['end_station_longitude'],x['end_station_latitude']], axis=1)\n",
        "\n",
        "# Generate the map\n",
        "layer = pdk.Layer(\"LineLayer\", df_map_data, get_source_position=\"start_coord\",get_target_position=\"end_coord\", get_color = [255,0,0], get_width = 3)\n",
        "init_view_state = pdk.ViewState(longitude=10.3985, latitude=63.4256, zoom=12)\n",
        "r = pdk.Deck(layers=layer, initial_view_state=init_view_state, map_style='light')\n",
        "r.to_html();"
      ]
    },
    {
      "cell_type": "markdown",
      "metadata": {
        "id": "Nlff4eGCSjyz"
      },
      "source": [
        "# Appendix"
      ]
    },
    {
      "cell_type": "markdown",
      "metadata": {
        "id": "n6CRz1H-o1Fp"
      },
      "source": [
        "# Other useful Pandas functions\n",
        "\n",
        "https://pandas.pydata.org/docs/\n",
        "\n",
        "The fastest way to solve a problem is usually through Google or StackOverflow.If you have a question, it's highly likely that it has already been asked and solved on StackOverflow.\n",
        "\n",
        "There are TONS of articles with 'Top n Pandas Functions you must know'. Here's a selection of some of the functions we have use of in projects.\n",
        "\n",
        "Remember that a lot of operations that can be done on a whole dataframe can also be done on a single column as a Series.\n",
        "\n",
        "```\n",
        "df.method() # Accesses entire Pandas DataFrame\n",
        "df['column_name'].method() # Accesses only the column as a Pandas Series\n",
        "```\n",
        "\n",
        "\n",
        "\n",
        "---\n",
        "\n",
        "\n",
        "\n",
        "- style (precision, conditional formatting, etc)\n",
        "- pd.set_option() - https://pandas.pydata.org/docs/user_guide/options.html?highlight=options%20display\n",
        "- df.nlargest og df.nsmallest - https://pandas.pydata.org/docs/reference/api/pandas.DataFrame.nlargest.html?highlight=nlargest#pandas.DataFrame.nlargest\n",
        "- df.idxmax() og df.idxmin() - https://pandas.pydata.org/docs/reference/api/pandas.DataFrame.idxmax.html?highlight=idxmax#pandas.DataFrame.idxmax\n",
        "- df.count() - https://pandas.pydata.org/docs/reference/api/pandas.DataFrame.count.html?highlight=count#pandas.DataFrame.count\n",
        "- df.value_counts(dropna = False) - https://pandas.pydata.org/docs/reference/api/pandas.DataFrame.value_counts.html?highlight=value_counts#pandas.DataFrame.value_counts\n",
        "- df.at_time og df.between_time - https://pandas.pydata.org/docs/reference/api/pandas.DataFrame.at_time.html?highlight=at_time\n",
        "- df.replace() - https://pandas.pydata.org/docs/reference/api/pandas.DataFrame.replace.html?highlight=replace#pandas.DataFrame.replace\n",
        "- df.fillna() - https://pandas.pydata.org/docs/reference/api/pandas.DataFrame.fillna.html?highlight=fillna#pandas.DataFrame.fillna\n",
        "- df.groupby() - https://pandas.pydata.org/docs/reference/api/pandas.DataFrame.groupby.html?highlight=groupby#pandas.DataFrame.groupby\n",
        "- df.query() - https://pandas.pydata.org/docs/reference/api/pandas.DataFrame.query.html?highlight=query#pandas.DataFrame.query\n",
        "- df.where() - https://pandas.pydata.org/docs/reference/api/pandas.DataFrame.where.html?highlight=where#pandas.DataFrame.where\n",
        "- df['column_name'].isin() - https://pandas.pydata.org/docs/reference/api/pandas.Series.isin.html?highlight=isin#pandas.Series.isin\n",
        "- df['column_name'].unique() - https://pandas.pydata.org/docs/reference/api/pandas.Series.unique.html?highlight=unique#pandas.Series.unique\n",
        "- df['column_name'].nunique() - https://pandas.pydata.org/docs/reference/api/pandas.Series.nunique.html?highlight=nunique#pandas.Series.nunique\n",
        "- df['column_name'].cumsum() - https://pandas.pydata.org/docs/reference/api/pandas.Series.cumsum.html?highlight=cumsum#pandas.Series.cumsum\n",
        "- df['column_name'].pct_change() - https://pandas.pydata.org/docs/reference/api/pandas.DataFrame.pct_change.html?highlight=pct%20change#pandas.DataFrame.pct_change\n",
        "- df['column_name'].shift() - https://pandas.pydata.org/docs/reference/api/pandas.Series.shift.html?highlight=shift#pandas.Series.shift\n",
        "- Windowing operations - https://pandas.pydata.org/docs/user_guide/window.html#window-expanding\n",
        "\n",
        "\n",
        "- df.pipe - https://pandas.pydata.org/docs/reference/api/pandas.DataFrame.pipe.html?highlight=pipe#pandas.DataFrame.pipe \n",
        "- Using .pkl to compress CSV files - https://pandas.pydata.org/docs/reference/api/pandas.read_pickle.html \n",
        "- Handling larger amounts of data - https://pandas.pydata.org/docs/user_guide/scale.html\n",
        "- Pandas Cookbook - https://pandas.pydata.org/docs/user_guide/cookbook.html\n",
        "- Built-in plotting - https://pandas.pydata.org/docs/user_guide/visualization.html\n",
        "\n",
        "\n",
        "\n",
        "\n"
      ]
    },
    {
      "cell_type": "markdown",
      "metadata": {
        "id": "pRNlyHsXSRHB"
      },
      "source": [
        "## Bonus: Alternate strategy for filling missing durations\n",
        "Using averages for each segment to fill values for those segments.\n",
        "\n",
        "Note that this will not produce a result now since the code in '*Fix missing values in 'ended_at' '* has already cleaned up all the missing values in the 'ended_at' column.\n",
        "BUT, all of this code below could replace the code in *'Fix missing values in 'ended_at''*"
      ]
    },
    {
      "cell_type": "code",
      "execution_count": null,
      "metadata": {
        "id": "Og3TOQU7SSV3"
      },
      "outputs": [],
      "source": [
        "# Make unique segment ids based on start station and end station\n",
        "df['segment'] = df['start_station_id'].astype(str) + '_' + df['end_station_id'].astype(str)\n",
        "\n",
        "unique_segments = df['segment'].unique()\n",
        "\n",
        "print(f'Total number of unique segments: {len(unique_segments)}')"
      ]
    },
    {
      "cell_type": "code",
      "execution_count": null,
      "metadata": {
        "id": "xY0ClxZ9SvFm"
      },
      "outputs": [],
      "source": [
        "# Create dictionary of segment names and mean duration for each segment\n",
        "segment_means = {}\n",
        "\n",
        "# Loop over all of the unique segments and calculate the mean duration for that segment based on all trips for that segment\n",
        "\n",
        "for segment in unique_segments:\n",
        "    temp_frame = df[df['segment'] == segment]\n",
        "    segment_means[segment] = temp_frame['duration'].mean()"
      ]
    },
    {
      "cell_type": "code",
      "execution_count": null,
      "metadata": {
        "id": "RMRfa7u-Szo-"
      },
      "outputs": [],
      "source": [
        "# Extract dataframe with missing ended_at values\n",
        "# Use df.isna()\n",
        "\n",
        "missing_endtime = df[df['ended_at'].isna()]\n",
        "missing_endtime = missing_endtime[['started_at','segment']]\n",
        "\n",
        "# Show missing_endtime dataframe\n",
        "missing_endtime"
      ]
    },
    {
      "cell_type": "code",
      "execution_count": null,
      "metadata": {
        "id": "PPzD7qtES1j-"
      },
      "outputs": [],
      "source": [
        "# Fill in missing durations with values from segment_means dictionary\n",
        "\n",
        "missing_endtime['duration'] = missing_endtime['segment'].apply(lambda x: segment_means[x]) \n",
        "\n",
        "# Create timedelta, needed for calculation of ended_at\n",
        "missing_endtime['duration_dt'] = pd.to_timedelta(missing_endtime['duration'], unit='s')\n",
        "\n",
        "# Calculate ended_at\n",
        "missing_endtime['ended_at'] = missing_endtime['started_at'] + missing_endtime['duration_dt']\n",
        "\n",
        "# Extract necessary columns, needed to fill original dataframe\n",
        "missing_endtime = missing_endtime[['ended_at','duration']]\n",
        "\n",
        "# Show updated dataframe\n",
        "missing_endtime\n",
        "\n",
        "\n",
        "# # Fill missing values in original dataframe based on values in missing_endtime dataframe\n",
        "# # df.fillna() will automatically match based on index to fill in 'ended_at' and 'duration' values\n",
        "\n",
        "# df = df.fillna(missing_endtime)"
      ]
    }
  ],
  "metadata": {
    "colab": {
      "name": "Copy of bysykkel_adventure.ipynb",
      "provenance": [],
      "collapsed_sections": []
    },
    "interpreter": {
      "hash": "09dc4478fbc8c738def0b0030cd85816df6418367d204095b9d48e2eff823494"
    },
    "kernelspec": {
      "display_name": "Python 3.9.7 64-bit",
      "language": "python",
      "name": "python3"
    },
    "language_info": {
      "codemirror_mode": {
        "name": "ipython",
        "version": 3
      },
      "file_extension": ".py",
      "mimetype": "text/x-python",
      "name": "python",
      "nbconvert_exporter": "python",
      "pygments_lexer": "ipython3",
      "version": "3.9.7"
    },
    "orig_nbformat": 4,
    "widgets": {
      "application/vnd.jupyter.widget-state+json": {
        "f22145fd17674ec393fe7f33dd941afc": {
          "model_module": "@jupyter-widgets/controls",
          "model_name": "HBoxModel",
          "model_module_version": "1.5.0",
          "state": {
            "_dom_classes": [],
            "_model_module": "@jupyter-widgets/controls",
            "_model_module_version": "1.5.0",
            "_model_name": "HBoxModel",
            "_view_count": null,
            "_view_module": "@jupyter-widgets/controls",
            "_view_module_version": "1.5.0",
            "_view_name": "HBoxView",
            "box_style": "",
            "children": [
              "IPY_MODEL_8e40b33b79164313b7f95f0f1ef91429",
              "IPY_MODEL_a1343976e9c441dba1c87c1d4be5add9",
              "IPY_MODEL_abd3bead585543c2895aead470c387ea"
            ],
            "layout": "IPY_MODEL_d5c21724b0f842f38ed2b838a8745acf"
          }
        },
        "8e40b33b79164313b7f95f0f1ef91429": {
          "model_module": "@jupyter-widgets/controls",
          "model_name": "HTMLModel",
          "model_module_version": "1.5.0",
          "state": {
            "_dom_classes": [],
            "_model_module": "@jupyter-widgets/controls",
            "_model_module_version": "1.5.0",
            "_model_name": "HTMLModel",
            "_view_count": null,
            "_view_module": "@jupyter-widgets/controls",
            "_view_module_version": "1.5.0",
            "_view_name": "HTMLView",
            "description": "",
            "description_tooltip": null,
            "layout": "IPY_MODEL_fb64661a637e40e7a55fac076ccb11d3",
            "placeholder": "​",
            "style": "IPY_MODEL_b31ebd6b0204470bacf89ebb7e82fa20",
            "value": "Summarize dataset:  87%"
          }
        },
        "a1343976e9c441dba1c87c1d4be5add9": {
          "model_module": "@jupyter-widgets/controls",
          "model_name": "FloatProgressModel",
          "model_module_version": "1.5.0",
          "state": {
            "_dom_classes": [],
            "_model_module": "@jupyter-widgets/controls",
            "_model_module_version": "1.5.0",
            "_model_name": "FloatProgressModel",
            "_view_count": null,
            "_view_module": "@jupyter-widgets/controls",
            "_view_module_version": "1.5.0",
            "_view_name": "ProgressView",
            "bar_style": "",
            "description": "",
            "description_tooltip": null,
            "layout": "IPY_MODEL_f7426513bb1d472a8b0d82bf709f4633",
            "max": 5,
            "min": 0,
            "orientation": "horizontal",
            "style": "IPY_MODEL_c13ba18eb0964180bd01a1b4d4f3c706",
            "value": 5
          }
        },
        "abd3bead585543c2895aead470c387ea": {
          "model_module": "@jupyter-widgets/controls",
          "model_name": "HTMLModel",
          "model_module_version": "1.5.0",
          "state": {
            "_dom_classes": [],
            "_model_module": "@jupyter-widgets/controls",
            "_model_module_version": "1.5.0",
            "_model_name": "HTMLModel",
            "_view_count": null,
            "_view_module": "@jupyter-widgets/controls",
            "_view_module_version": "1.5.0",
            "_view_name": "HTMLView",
            "description": "",
            "description_tooltip": null,
            "layout": "IPY_MODEL_4fad6e603c764f4fb494fda691edd333",
            "placeholder": "​",
            "style": "IPY_MODEL_6cce1800cff14a02bcb1c0dfee99656a",
            "value": " 54/62 [00:28&lt;00:02,  3.88it/s, Missing diagram bar]"
          }
        },
        "d5c21724b0f842f38ed2b838a8745acf": {
          "model_module": "@jupyter-widgets/base",
          "model_name": "LayoutModel",
          "model_module_version": "1.2.0",
          "state": {
            "_model_module": "@jupyter-widgets/base",
            "_model_module_version": "1.2.0",
            "_model_name": "LayoutModel",
            "_view_count": null,
            "_view_module": "@jupyter-widgets/base",
            "_view_module_version": "1.2.0",
            "_view_name": "LayoutView",
            "align_content": null,
            "align_items": null,
            "align_self": null,
            "border": null,
            "bottom": null,
            "display": null,
            "flex": null,
            "flex_flow": null,
            "grid_area": null,
            "grid_auto_columns": null,
            "grid_auto_flow": null,
            "grid_auto_rows": null,
            "grid_column": null,
            "grid_gap": null,
            "grid_row": null,
            "grid_template_areas": null,
            "grid_template_columns": null,
            "grid_template_rows": null,
            "height": null,
            "justify_content": null,
            "justify_items": null,
            "left": null,
            "margin": null,
            "max_height": null,
            "max_width": null,
            "min_height": null,
            "min_width": null,
            "object_fit": null,
            "object_position": null,
            "order": null,
            "overflow": null,
            "overflow_x": null,
            "overflow_y": null,
            "padding": null,
            "right": null,
            "top": null,
            "visibility": null,
            "width": null
          }
        },
        "fb64661a637e40e7a55fac076ccb11d3": {
          "model_module": "@jupyter-widgets/base",
          "model_name": "LayoutModel",
          "model_module_version": "1.2.0",
          "state": {
            "_model_module": "@jupyter-widgets/base",
            "_model_module_version": "1.2.0",
            "_model_name": "LayoutModel",
            "_view_count": null,
            "_view_module": "@jupyter-widgets/base",
            "_view_module_version": "1.2.0",
            "_view_name": "LayoutView",
            "align_content": null,
            "align_items": null,
            "align_self": null,
            "border": null,
            "bottom": null,
            "display": null,
            "flex": null,
            "flex_flow": null,
            "grid_area": null,
            "grid_auto_columns": null,
            "grid_auto_flow": null,
            "grid_auto_rows": null,
            "grid_column": null,
            "grid_gap": null,
            "grid_row": null,
            "grid_template_areas": null,
            "grid_template_columns": null,
            "grid_template_rows": null,
            "height": null,
            "justify_content": null,
            "justify_items": null,
            "left": null,
            "margin": null,
            "max_height": null,
            "max_width": null,
            "min_height": null,
            "min_width": null,
            "object_fit": null,
            "object_position": null,
            "order": null,
            "overflow": null,
            "overflow_x": null,
            "overflow_y": null,
            "padding": null,
            "right": null,
            "top": null,
            "visibility": null,
            "width": null
          }
        },
        "b31ebd6b0204470bacf89ebb7e82fa20": {
          "model_module": "@jupyter-widgets/controls",
          "model_name": "DescriptionStyleModel",
          "model_module_version": "1.5.0",
          "state": {
            "_model_module": "@jupyter-widgets/controls",
            "_model_module_version": "1.5.0",
            "_model_name": "DescriptionStyleModel",
            "_view_count": null,
            "_view_module": "@jupyter-widgets/base",
            "_view_module_version": "1.2.0",
            "_view_name": "StyleView",
            "description_width": ""
          }
        },
        "f7426513bb1d472a8b0d82bf709f4633": {
          "model_module": "@jupyter-widgets/base",
          "model_name": "LayoutModel",
          "model_module_version": "1.2.0",
          "state": {
            "_model_module": "@jupyter-widgets/base",
            "_model_module_version": "1.2.0",
            "_model_name": "LayoutModel",
            "_view_count": null,
            "_view_module": "@jupyter-widgets/base",
            "_view_module_version": "1.2.0",
            "_view_name": "LayoutView",
            "align_content": null,
            "align_items": null,
            "align_self": null,
            "border": null,
            "bottom": null,
            "display": null,
            "flex": null,
            "flex_flow": null,
            "grid_area": null,
            "grid_auto_columns": null,
            "grid_auto_flow": null,
            "grid_auto_rows": null,
            "grid_column": null,
            "grid_gap": null,
            "grid_row": null,
            "grid_template_areas": null,
            "grid_template_columns": null,
            "grid_template_rows": null,
            "height": null,
            "justify_content": null,
            "justify_items": null,
            "left": null,
            "margin": null,
            "max_height": null,
            "max_width": null,
            "min_height": null,
            "min_width": null,
            "object_fit": null,
            "object_position": null,
            "order": null,
            "overflow": null,
            "overflow_x": null,
            "overflow_y": null,
            "padding": null,
            "right": null,
            "top": null,
            "visibility": null,
            "width": null
          }
        },
        "c13ba18eb0964180bd01a1b4d4f3c706": {
          "model_module": "@jupyter-widgets/controls",
          "model_name": "ProgressStyleModel",
          "model_module_version": "1.5.0",
          "state": {
            "_model_module": "@jupyter-widgets/controls",
            "_model_module_version": "1.5.0",
            "_model_name": "ProgressStyleModel",
            "_view_count": null,
            "_view_module": "@jupyter-widgets/base",
            "_view_module_version": "1.2.0",
            "_view_name": "StyleView",
            "bar_color": null,
            "description_width": ""
          }
        },
        "4fad6e603c764f4fb494fda691edd333": {
          "model_module": "@jupyter-widgets/base",
          "model_name": "LayoutModel",
          "model_module_version": "1.2.0",
          "state": {
            "_model_module": "@jupyter-widgets/base",
            "_model_module_version": "1.2.0",
            "_model_name": "LayoutModel",
            "_view_count": null,
            "_view_module": "@jupyter-widgets/base",
            "_view_module_version": "1.2.0",
            "_view_name": "LayoutView",
            "align_content": null,
            "align_items": null,
            "align_self": null,
            "border": null,
            "bottom": null,
            "display": null,
            "flex": null,
            "flex_flow": null,
            "grid_area": null,
            "grid_auto_columns": null,
            "grid_auto_flow": null,
            "grid_auto_rows": null,
            "grid_column": null,
            "grid_gap": null,
            "grid_row": null,
            "grid_template_areas": null,
            "grid_template_columns": null,
            "grid_template_rows": null,
            "height": null,
            "justify_content": null,
            "justify_items": null,
            "left": null,
            "margin": null,
            "max_height": null,
            "max_width": null,
            "min_height": null,
            "min_width": null,
            "object_fit": null,
            "object_position": null,
            "order": null,
            "overflow": null,
            "overflow_x": null,
            "overflow_y": null,
            "padding": null,
            "right": null,
            "top": null,
            "visibility": null,
            "width": null
          }
        },
        "6cce1800cff14a02bcb1c0dfee99656a": {
          "model_module": "@jupyter-widgets/controls",
          "model_name": "DescriptionStyleModel",
          "model_module_version": "1.5.0",
          "state": {
            "_model_module": "@jupyter-widgets/controls",
            "_model_module_version": "1.5.0",
            "_model_name": "DescriptionStyleModel",
            "_view_count": null,
            "_view_module": "@jupyter-widgets/base",
            "_view_module_version": "1.2.0",
            "_view_name": "StyleView",
            "description_width": ""
          }
        }
      }
    }
  },
  "nbformat": 4,
  "nbformat_minor": 0
}